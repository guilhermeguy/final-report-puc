{
  "nbformat": 4,
  "nbformat_minor": 0,
  "metadata": {
    "colab": {
      "provenance": [],
      "mount_file_id": "https://github.com/guilhermeguy/final-report-puc/blob/main/xray_classifier.ipynb",
      "authorship_tag": "ABX9TyOugp6mQoQHe1WzPoPN5v6U",
      "include_colab_link": true
    },
    "kernelspec": {
      "name": "python3",
      "display_name": "Python 3"
    },
    "language_info": {
      "name": "python"
    }
  },
  "cells": [
    {
      "cell_type": "markdown",
      "metadata": {
        "id": "view-in-github",
        "colab_type": "text"
      },
      "source": [
        "<a href=\"https://colab.research.google.com/github/guilhermeguy/final-report-puc/blob/main/xray_classifier.ipynb\" target=\"_parent\"><img src=\"https://colab.research.google.com/assets/colab-badge.svg\" alt=\"Open In Colab\"/></a>"
      ]
    },
    {
      "cell_type": "code",
      "source": [
        "!pip install pydicom"
      ],
      "metadata": {
        "id": "f4lewkUIe1iT",
        "outputId": "81677f8e-4a3e-4225-8790-5ef98bb50440",
        "colab": {
          "base_uri": "https://localhost:8080/"
        }
      },
      "execution_count": 5,
      "outputs": [
        {
          "output_type": "stream",
          "name": "stdout",
          "text": [
            "Looking in indexes: https://pypi.org/simple, https://us-python.pkg.dev/colab-wheels/public/simple/\n",
            "Requirement already satisfied: pydicom in /usr/local/lib/python3.7/dist-packages (2.3.0)\n"
          ]
        }
      ]
    },
    {
      "cell_type": "code",
      "execution_count": 7,
      "metadata": {
        "id": "aRSeO5w88eL7"
      },
      "outputs": [],
      "source": [
        "import pandas as pd \n",
        "import numpy as np\n",
        "import seaborn as sns\n",
        "import pydicom\n",
        "from glob import glob\n",
        "import matplotlib.pyplot as plt\n",
        "%matplotlib inline"
      ]
    },
    {
      "cell_type": "code",
      "source": [
        "base = '/content/drive/MyDrive/#PUC-Pós/TCC/base'"
      ],
      "metadata": {
        "id": "EmPbUJh6eolN"
      },
      "execution_count": 9,
      "outputs": []
    },
    {
      "cell_type": "code",
      "source": [
        "train_df = pd.read_csv(base + '/train.csv')\n",
        "test_df = pd.read_csv(base + '/sample_submission.csv')"
      ],
      "metadata": {
        "id": "yE0B_htjexWD"
      },
      "execution_count": 15,
      "outputs": []
    },
    {
      "cell_type": "markdown",
      "source": [
        "### Exploração dos dados e Análise dos Dados\n",
        "\n",
        "Os rótulos estão codificados como número inteiro."
      ],
      "metadata": {
        "id": "bzMwUEUMkZW3"
      }
    },
    {
      "cell_type": "code",
      "source": [
        "train_df['Target'].value_counts()"
      ],
      "metadata": {
        "id": "cRRffSJ-kCQt",
        "outputId": "fffe1e3f-729a-4282-9108-8aa5073109e6",
        "colab": {
          "base_uri": "https://localhost:8080/"
        }
      },
      "execution_count": 14,
      "outputs": [
        {
          "output_type": "execute_result",
          "data": {
            "text/plain": [
              "3            724\n",
              "14           120\n",
              "11           102\n",
              "0             80\n",
              "2             77\n",
              "6             70\n",
              "15            67\n",
              "21            63\n",
              "13 20         45\n",
              "9 21          42\n",
              "1             41\n",
              "16            40\n",
              "13            39\n",
              "9             31\n",
              "17            23\n",
              "5             23\n",
              "12            19\n",
              "10            19\n",
              "7             15\n",
              "20            15\n",
              "8             12\n",
              "0 3           11\n",
              "18            10\n",
              "4              9\n",
              "19             7\n",
              "1 6            7\n",
              "1 11 12        5\n",
              "10 19          4\n",
              "2 13 20        3\n",
              "5 8            2\n",
              "10 11 19       2\n",
              "15 19          2\n",
              "2 20           1\n",
              "3 7            1\n",
              "1 12           1\n",
              "7 9            1\n",
              "3 6            1\n",
              "0 15           1\n",
              "3 15           1\n",
              "11 12          1\n",
              "8 16           1\n",
              "Name: Target, dtype: int64"
            ]
          },
          "metadata": {},
          "execution_count": 14
        }
      ]
    },
    {
      "cell_type": "code",
      "source": [
        "partes_corpo = {\n",
        "    0: 'Abdômen',\n",
        "    1: 'Tornozelo',\n",
        "    2: 'Espinha cervical', \n",
        "    3: 'Tórax',\n",
        "    4: 'Clavícula',\n",
        "    5: 'Cotovelo',\n",
        "    6: 'Pé',\n",
        "    7: 'Dedo',\n",
        "    8: 'Ante-braço',\n",
        "    9: 'Mão',\n",
        "    10: 'Quadril',\n",
        "    11: 'Joelho',\n",
        "    12: 'Panturrilha',\n",
        "    13: 'Espinha Lombar',\n",
        "    14: 'Outros',\n",
        "    15: 'Pélvis',\n",
        "    16: 'Ombro',\n",
        "    17: 'Sinus', \n",
        "    18: 'Crânio',\n",
        "    19: 'Coxa',\n",
        "    20: 'Espinha Toráxica',\n",
        "    21: 'Punho'\n",
        "    }"
      ],
      "metadata": {
        "id": "nSCjR6d6kFwU"
      },
      "execution_count": 21,
      "outputs": []
    },
    {
      "cell_type": "code",
      "source": [
        "def criar_rotulos(target):\n",
        "  rotulo = []\n",
        "  target = target.strip()\n",
        "  target = target.split(' ')\n",
        "  target = [int(n) for n in target]\n",
        "  for num in target:\n",
        "    rotulo.append(partes_corpo[num])\n",
        "  rotulo = ' e '.join(rotulo)\n",
        "  return rotulo\n",
        "\n",
        "\n"
      ],
      "metadata": {
        "id": "XMvtGhHAs-6x"
      },
      "execution_count": 34,
      "outputs": []
    },
    {
      "cell_type": "code",
      "source": [
        "train_df['rotulo'] = train_df['Target'].apply(criar_rotulos)"
      ],
      "metadata": {
        "id": "hsK_aY0Zvt_9"
      },
      "execution_count": 35,
      "outputs": []
    },
    {
      "cell_type": "code",
      "source": [
        "train_df.head(10)"
      ],
      "metadata": {
        "id": "DH3nE00yMA1K",
        "outputId": "ddc97e90-2541-47aa-81ba-d976625d23ac",
        "colab": {
          "base_uri": "https://localhost:8080/",
          "height": 363
        }
      },
      "execution_count": 37,
      "outputs": [
        {
          "output_type": "execute_result",
          "data": {
            "text/plain": [
              "                                      SOPInstanceUID  Target  \\\n",
              "0  1.2.826.0.1.3680043.8.498.10025629581362719970...      0    \n",
              "1  1.2.826.0.1.3680043.8.498.10036150326276641158...     15    \n",
              "2  1.2.826.0.1.3680043.8.498.10038426859954986240...     12    \n",
              "3  1.2.826.0.1.3680043.8.498.10050991192143676483...     14    \n",
              "4  1.2.826.0.1.3680043.8.498.10053309524595490852...      3    \n",
              "5  1.2.826.0.1.3680043.8.498.10053755320637729867...      3    \n",
              "6  1.2.826.0.1.3680043.8.498.10062189329714053601...     14    \n",
              "7  1.2.826.0.1.3680043.8.498.10065930002825553435...  13 20    \n",
              "8  1.2.826.0.1.3680043.8.498.10072001800484199846...      3    \n",
              "9  1.2.826.0.1.3680043.8.498.10077219503857952412...      3    \n",
              "\n",
              "                              rotulo  \n",
              "0                            Abdômen  \n",
              "1                             Pélvis  \n",
              "2                        Panturrilha  \n",
              "3                             Outros  \n",
              "4                              Tórax  \n",
              "5                              Tórax  \n",
              "6                             Outros  \n",
              "7  Espinha Lombar e Espinha Toráxica  \n",
              "8                              Tórax  \n",
              "9                              Tórax  "
            ],
            "text/html": [
              "\n",
              "  <div id=\"df-fa9cc85b-9c9b-456f-9b17-29297648236d\">\n",
              "    <div class=\"colab-df-container\">\n",
              "      <div>\n",
              "<style scoped>\n",
              "    .dataframe tbody tr th:only-of-type {\n",
              "        vertical-align: middle;\n",
              "    }\n",
              "\n",
              "    .dataframe tbody tr th {\n",
              "        vertical-align: top;\n",
              "    }\n",
              "\n",
              "    .dataframe thead th {\n",
              "        text-align: right;\n",
              "    }\n",
              "</style>\n",
              "<table border=\"1\" class=\"dataframe\">\n",
              "  <thead>\n",
              "    <tr style=\"text-align: right;\">\n",
              "      <th></th>\n",
              "      <th>SOPInstanceUID</th>\n",
              "      <th>Target</th>\n",
              "      <th>rotulo</th>\n",
              "    </tr>\n",
              "  </thead>\n",
              "  <tbody>\n",
              "    <tr>\n",
              "      <th>0</th>\n",
              "      <td>1.2.826.0.1.3680043.8.498.10025629581362719970...</td>\n",
              "      <td>0</td>\n",
              "      <td>Abdômen</td>\n",
              "    </tr>\n",
              "    <tr>\n",
              "      <th>1</th>\n",
              "      <td>1.2.826.0.1.3680043.8.498.10036150326276641158...</td>\n",
              "      <td>15</td>\n",
              "      <td>Pélvis</td>\n",
              "    </tr>\n",
              "    <tr>\n",
              "      <th>2</th>\n",
              "      <td>1.2.826.0.1.3680043.8.498.10038426859954986240...</td>\n",
              "      <td>12</td>\n",
              "      <td>Panturrilha</td>\n",
              "    </tr>\n",
              "    <tr>\n",
              "      <th>3</th>\n",
              "      <td>1.2.826.0.1.3680043.8.498.10050991192143676483...</td>\n",
              "      <td>14</td>\n",
              "      <td>Outros</td>\n",
              "    </tr>\n",
              "    <tr>\n",
              "      <th>4</th>\n",
              "      <td>1.2.826.0.1.3680043.8.498.10053309524595490852...</td>\n",
              "      <td>3</td>\n",
              "      <td>Tórax</td>\n",
              "    </tr>\n",
              "    <tr>\n",
              "      <th>5</th>\n",
              "      <td>1.2.826.0.1.3680043.8.498.10053755320637729867...</td>\n",
              "      <td>3</td>\n",
              "      <td>Tórax</td>\n",
              "    </tr>\n",
              "    <tr>\n",
              "      <th>6</th>\n",
              "      <td>1.2.826.0.1.3680043.8.498.10062189329714053601...</td>\n",
              "      <td>14</td>\n",
              "      <td>Outros</td>\n",
              "    </tr>\n",
              "    <tr>\n",
              "      <th>7</th>\n",
              "      <td>1.2.826.0.1.3680043.8.498.10065930002825553435...</td>\n",
              "      <td>13 20</td>\n",
              "      <td>Espinha Lombar e Espinha Toráxica</td>\n",
              "    </tr>\n",
              "    <tr>\n",
              "      <th>8</th>\n",
              "      <td>1.2.826.0.1.3680043.8.498.10072001800484199846...</td>\n",
              "      <td>3</td>\n",
              "      <td>Tórax</td>\n",
              "    </tr>\n",
              "    <tr>\n",
              "      <th>9</th>\n",
              "      <td>1.2.826.0.1.3680043.8.498.10077219503857952412...</td>\n",
              "      <td>3</td>\n",
              "      <td>Tórax</td>\n",
              "    </tr>\n",
              "  </tbody>\n",
              "</table>\n",
              "</div>\n",
              "      <button class=\"colab-df-convert\" onclick=\"convertToInteractive('df-fa9cc85b-9c9b-456f-9b17-29297648236d')\"\n",
              "              title=\"Convert this dataframe to an interactive table.\"\n",
              "              style=\"display:none;\">\n",
              "        \n",
              "  <svg xmlns=\"http://www.w3.org/2000/svg\" height=\"24px\"viewBox=\"0 0 24 24\"\n",
              "       width=\"24px\">\n",
              "    <path d=\"M0 0h24v24H0V0z\" fill=\"none\"/>\n",
              "    <path d=\"M18.56 5.44l.94 2.06.94-2.06 2.06-.94-2.06-.94-.94-2.06-.94 2.06-2.06.94zm-11 1L8.5 8.5l.94-2.06 2.06-.94-2.06-.94L8.5 2.5l-.94 2.06-2.06.94zm10 10l.94 2.06.94-2.06 2.06-.94-2.06-.94-.94-2.06-.94 2.06-2.06.94z\"/><path d=\"M17.41 7.96l-1.37-1.37c-.4-.4-.92-.59-1.43-.59-.52 0-1.04.2-1.43.59L10.3 9.45l-7.72 7.72c-.78.78-.78 2.05 0 2.83L4 21.41c.39.39.9.59 1.41.59.51 0 1.02-.2 1.41-.59l7.78-7.78 2.81-2.81c.8-.78.8-2.07 0-2.86zM5.41 20L4 18.59l7.72-7.72 1.47 1.35L5.41 20z\"/>\n",
              "  </svg>\n",
              "      </button>\n",
              "      \n",
              "  <style>\n",
              "    .colab-df-container {\n",
              "      display:flex;\n",
              "      flex-wrap:wrap;\n",
              "      gap: 12px;\n",
              "    }\n",
              "\n",
              "    .colab-df-convert {\n",
              "      background-color: #E8F0FE;\n",
              "      border: none;\n",
              "      border-radius: 50%;\n",
              "      cursor: pointer;\n",
              "      display: none;\n",
              "      fill: #1967D2;\n",
              "      height: 32px;\n",
              "      padding: 0 0 0 0;\n",
              "      width: 32px;\n",
              "    }\n",
              "\n",
              "    .colab-df-convert:hover {\n",
              "      background-color: #E2EBFA;\n",
              "      box-shadow: 0px 1px 2px rgba(60, 64, 67, 0.3), 0px 1px 3px 1px rgba(60, 64, 67, 0.15);\n",
              "      fill: #174EA6;\n",
              "    }\n",
              "\n",
              "    [theme=dark] .colab-df-convert {\n",
              "      background-color: #3B4455;\n",
              "      fill: #D2E3FC;\n",
              "    }\n",
              "\n",
              "    [theme=dark] .colab-df-convert:hover {\n",
              "      background-color: #434B5C;\n",
              "      box-shadow: 0px 1px 3px 1px rgba(0, 0, 0, 0.15);\n",
              "      filter: drop-shadow(0px 1px 2px rgba(0, 0, 0, 0.3));\n",
              "      fill: #FFFFFF;\n",
              "    }\n",
              "  </style>\n",
              "\n",
              "      <script>\n",
              "        const buttonEl =\n",
              "          document.querySelector('#df-fa9cc85b-9c9b-456f-9b17-29297648236d button.colab-df-convert');\n",
              "        buttonEl.style.display =\n",
              "          google.colab.kernel.accessAllowed ? 'block' : 'none';\n",
              "\n",
              "        async function convertToInteractive(key) {\n",
              "          const element = document.querySelector('#df-fa9cc85b-9c9b-456f-9b17-29297648236d');\n",
              "          const dataTable =\n",
              "            await google.colab.kernel.invokeFunction('convertToInteractive',\n",
              "                                                     [key], {});\n",
              "          if (!dataTable) return;\n",
              "\n",
              "          const docLinkHtml = 'Like what you see? Visit the ' +\n",
              "            '<a target=\"_blank\" href=https://colab.research.google.com/notebooks/data_table.ipynb>data table notebook</a>'\n",
              "            + ' to learn more about interactive tables.';\n",
              "          element.innerHTML = '';\n",
              "          dataTable['output_type'] = 'display_data';\n",
              "          await google.colab.output.renderOutput(dataTable, element);\n",
              "          const docLink = document.createElement('div');\n",
              "          docLink.innerHTML = docLinkHtml;\n",
              "          element.appendChild(docLink);\n",
              "        }\n",
              "      </script>\n",
              "    </div>\n",
              "  </div>\n",
              "  "
            ]
          },
          "metadata": {},
          "execution_count": 37
        }
      ]
    },
    {
      "cell_type": "code",
      "source": [
        "def dcmtag2table(folder, list_of_tags):\n",
        "    \"\"\"\n",
        "    # Create a Pandas DataFrame with the <list_of_tags> DICOM tags\n",
        "    # from the DICOM files in <folder>\n",
        "    # Parameters:\n",
        "    #    folder (str): folder to be recursively walked looking for DICOM files.\n",
        "    #    list_of_tags (list of strings): list of DICOM tags with no whitespaces.\n",
        "    # Returns:\n",
        "    #    df (DataFrame): table of DICOM tags from the files in folder.\n",
        "    \"\"\"\n",
        "    list_of_tags = list_of_tags.copy()\n",
        "    items = []\n",
        "    table = []\n",
        "    filelist = []\n",
        "    print(\"Listing all files...\")\n",
        "    start = time.time()\n",
        "    for root, dirs, files in os.walk(folder, topdown=False):\n",
        "        for name in files:\n",
        "            filelist.append(os.path.join(root, name))\n",
        "    print(\"Time: \" + str(time.time() - start))\n",
        "    print(\"Reading files...\")\n",
        "    time.sleep(2)\n",
        "    for _f in tqdm(filelist):\n",
        "        try:\n",
        "            ds = pydicom.dcmread(_f, stop_before_pixels=True)\n",
        "            items = []\n",
        "            items.append(_f)\n",
        "\n",
        "            for _tag in list_of_tags:\n",
        "                if _tag in ds:\n",
        "                    items.append(ds.data_element(_tag).value)\n",
        "                else:\n",
        "                    items.append(\"Not found\")\n",
        "\n",
        "            table.append((items))\n",
        "        except:\n",
        "            print(\"Skipping non-DICOM: \" + _f)\n",
        "\n",
        "            \n",
        "    list_of_tags.insert(0, \"Filename\")\n",
        "    test = list(map(list, zip(*table)))\n",
        "    dictone = {}\n",
        "\n",
        "    for i, _tag in enumerate (list_of_tags):\n",
        "        dictone[_tag] = test[i]\n",
        "\n",
        "    df = pd.DataFrame(dictone)\n",
        "    time.sleep(2)\n",
        "    print(\"Finished.\")\n",
        "    return df"
      ],
      "metadata": {
        "id": "rASgY0Ydk9Or"
      },
      "execution_count": 18,
      "outputs": []
    },
    {
      "cell_type": "code",
      "source": [],
      "metadata": {
        "id": "7zQsLKcFm7jK"
      },
      "execution_count": null,
      "outputs": []
    }
  ]
}